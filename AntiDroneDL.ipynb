{
 "cells": [
  {
   "cell_type": "code",
   "execution_count": 92,
   "id": "7b2eab0e",
   "metadata": {
    "slideshow": {
     "slide_type": "slide"
    }
   },
   "outputs": [
    {
     "name": "stdout",
     "output_type": "stream",
     "text": [
      "['testing', 'training']\n"
     ]
    }
   ],
   "source": [
    "import numpy as np \n",
    "import pandas as pd\n",
    "import os\n",
    "root_path = os.listdir('BirdVsDrone')\n",
    "print(root_path)"
   ]
  },
  {
   "cell_type": "code",
   "execution_count": 95,
   "id": "044f02b1",
   "metadata": {
    "slideshow": {
     "slide_type": "slide"
    }
   },
   "outputs": [],
   "source": [
    "import shutil\n",
    "\n",
    "root_dir= 'BirdVsDrone'\n",
    "\n",
    "#os.makedirs(os.path.join(root_dir,\"tmp\",\"bird-vs-drone\"))\n",
    "\n",
    "if os.path.exists(root_dir):\n",
    "    shutil.rmtree(root_dir)\n",
    "\n",
    "def create_train_test_dirs(root_path):\n",
    "    os.makedirs(os.path.join(root_dir,\"training\", \"birds\"))\n",
    "    os.makedirs(os.path.join(root_dir,\"training\",\"drones\"))\n",
    "    os.makedirs(os.path.join(root_dir,\"testing\",\"birds\"))\n",
    "    os.makedirs(os.path.join(root_dir,\"testing\",\"drones\"))\n",
    "    \n",
    "create_train_test_dirs(root_path=root_dir)"
   ]
  },
  {
   "cell_type": "code",
   "execution_count": 96,
   "id": "634a37a5",
   "metadata": {
    "slideshow": {
     "slide_type": "slide"
    }
   },
   "outputs": [],
   "source": [
    "import random \n",
    "\n",
    "def split_data(SOURCE, TRAINING, TESTING, SPLIT_SIZE):\n",
    "    file_names = os.listdir(SOURCE)\n",
    "    random_file_names = random.sample(file_names, len(file_names))\n",
    "    split_threshold = round(SPLIT_SIZE * len(random_file_names))\n",
    "    for item in random_file_names[:split_threshold]:\n",
    "        if os.path.getsize(os.path.join(SOURCE,item)) == 0:\n",
    "            print(f\"{item} is zero length, so ignoring.\")\n",
    "        else:\n",
    "            shutil.copy(os.path.join(SOURCE,item),TRAINING)\n",
    "    for item in random_file_names[split_threshold:len(random_file_names)]:\n",
    "        if os.path.getsize(os.path.join(SOURCE,item)) == 0:\n",
    "            print(f\"{item} is zero length, so ignoring.\")\n",
    "        else:\n",
    "            shutil.copy(os.path.join(SOURCE,item),TESTING)       "
   ]
  },
  {
   "cell_type": "code",
   "execution_count": 97,
   "id": "c3781215",
   "metadata": {
    "slideshow": {
     "slide_type": "slide"
    }
   },
   "outputs": [],
   "source": [
    "DRONE_SOURCE_DIR = \"Bird_Drone_Dataset\\BirdVsDrone/Drones/\"\n",
    "BIRD_SOURCE_DIR = \"Bird_Drone_Dataset\\BirdVsDrone/Birds/\"\n",
    "\n",
    "TRAINING_DIR = 'BirdVsDrone/training'\n",
    "TESTING_DIR = 'BirdVsDrone/testing'\n",
    "\n",
    "TRAINING_DRONE_DIR = os.path.join(TRAINING_DIR, \"drones/\")\n",
    "TESTING_DRONE_DIR = os.path.join(TESTING_DIR, \"drones/\")\n",
    "\n",
    "TRAINING_BIRD_DIR = os.path.join(TRAINING_DIR, \"birds/\")\n",
    "TESTING_BIRD_DIR = os.path.join(TESTING_DIR, \"birds/\")"
   ]
  },
  {
   "cell_type": "code",
   "execution_count": 98,
   "id": "a6ff0f46",
   "metadata": {
    "slideshow": {
     "slide_type": "slide"
    }
   },
   "outputs": [],
   "source": [
    "split_size = 0.9\n",
    "\n",
    "split_data(DRONE_SOURCE_DIR, TRAINING_DRONE_DIR, TESTING_DRONE_DIR, split_size)\n",
    "split_data(BIRD_SOURCE_DIR, TRAINING_BIRD_DIR, TESTING_BIRD_DIR, split_size)"
   ]
  },
  {
   "cell_type": "code",
   "execution_count": 99,
   "id": "dc0a81a5",
   "metadata": {
    "slideshow": {
     "slide_type": "slide"
    }
   },
   "outputs": [
    {
     "name": "stdout",
     "output_type": "stream",
     "text": [
      "Found 743 images belonging to 2 classes.\n",
      "Found 83 images belonging to 2 classes.\n"
     ]
    }
   ],
   "source": [
    "import tensorflow as tf\n",
    "from tensorflow.keras.preprocessing.image import ImageDataGenerator\n",
    "\n",
    "train_data_gen = ImageDataGenerator(rescale=1./255)\n",
    "\n",
    "\n",
    "# Flow training images in batches of 128 using train_datagen generator\n",
    "train_generator = train_data_gen.flow_from_directory(\n",
    "    directory = TRAINING_DIR,\n",
    "    target_size = (150,150),\n",
    "    batch_size = 32,\n",
    "    class_mode = 'binary'\n",
    ")\n",
    "\n",
    "validation_datagen = ImageDataGenerator(rescale=1./255)\n",
    "    \n",
    "validation_generator = validation_datagen.flow_from_directory(directory=TESTING_DIR,\n",
    "                                                                batch_size=32,\n",
    "                                                                class_mode='binary',\n",
    "                                                                target_size=(150, 150))\n",
    "    \n"
   ]
  },
  {
   "cell_type": "code",
   "execution_count": 100,
   "id": "a57a380f",
   "metadata": {
    "slideshow": {
     "slide_type": "slide"
    }
   },
   "outputs": [
    {
     "name": "stdout",
     "output_type": "stream",
     "text": [
      "{'birds': 0, 'drones': 1}\n",
      "{'birds': 0, 'drones': 1}\n"
     ]
    }
   ],
   "source": [
    "#print(train_generator.classes)\n",
    "print(train_generator.class_indices)\n",
    "\n",
    "print(validation_generator.class_indices)"
   ]
  },
  {
   "cell_type": "code",
   "execution_count": 101,
   "id": "acc0f199",
   "metadata": {
    "slideshow": {
     "slide_type": "slide"
    }
   },
   "outputs": [],
   "source": [
    "#Build a Model\n",
    "import tensorflow as tf \n",
    "\n",
    "model = tf.keras.models.Sequential([\n",
    "    # Note the input shape is the desired size of the image 150*150 with 3 bytes color\n",
    "    # This is the first convolution\n",
    "    tf.keras.layers.Conv2D(16, (3,3), activation='relu', input_shape=(150, 150, 3)),\n",
    "    tf.keras.layers.MaxPooling2D(2, 2),\n",
    "    # The second convolution\n",
    "    tf.keras.layers.Conv2D(32, (3,3), activation='relu'),\n",
    "    tf.keras.layers.MaxPooling2D(2,2),\n",
    "    # The third convolution\n",
    "    tf.keras.layers.Conv2D(64, (3,3), activation='relu'),\n",
    "    tf.keras.layers.MaxPooling2D(2,2),\n",
    "    # Flatten the results to feed into a DNN\n",
    "    tf.keras.layers.Flatten(),\n",
    "    # 512 neuron hidden layer\n",
    "    tf.keras.layers.Dense(512, activation='relu'),\n",
    "    # Only 1 output neuron. It will contain a value from 0-1 where 0 for 1 class ('horses') and 1 for the other ('humans')\n",
    "    tf.keras.layers.Dense(1, activation='sigmoid')\n",
    "])"
   ]
  },
  {
   "cell_type": "code",
   "execution_count": 102,
   "id": "0f5b8a6d",
   "metadata": {
    "slideshow": {
     "slide_type": "slide"
    }
   },
   "outputs": [
    {
     "name": "stdout",
     "output_type": "stream",
     "text": [
      "Model: \"sequential_2\"\n",
      "_________________________________________________________________\n",
      " Layer (type)                Output Shape              Param #   \n",
      "=================================================================\n",
      " conv2d_6 (Conv2D)           (None, 148, 148, 16)      448       \n",
      "                                                                 \n",
      " max_pooling2d_6 (MaxPoolin  (None, 74, 74, 16)        0         \n",
      " g2D)                                                            \n",
      "                                                                 \n",
      " conv2d_7 (Conv2D)           (None, 72, 72, 32)        4640      \n",
      "                                                                 \n",
      " max_pooling2d_7 (MaxPoolin  (None, 36, 36, 32)        0         \n",
      " g2D)                                                            \n",
      "                                                                 \n",
      " conv2d_8 (Conv2D)           (None, 34, 34, 64)        18496     \n",
      "                                                                 \n",
      " max_pooling2d_8 (MaxPoolin  (None, 17, 17, 64)        0         \n",
      " g2D)                                                            \n",
      "                                                                 \n",
      " flatten_2 (Flatten)         (None, 18496)             0         \n",
      "                                                                 \n",
      " dense_4 (Dense)             (None, 512)               9470464   \n",
      "                                                                 \n",
      " dense_5 (Dense)             (None, 1)                 513       \n",
      "                                                                 \n",
      "=================================================================\n",
      "Total params: 9494561 (36.22 MB)\n",
      "Trainable params: 9494561 (36.22 MB)\n",
      "Non-trainable params: 0 (0.00 Byte)\n",
      "_________________________________________________________________\n"
     ]
    }
   ],
   "source": [
    "model.summary()"
   ]
  },
  {
   "cell_type": "code",
   "execution_count": 103,
   "id": "bcdbde69",
   "metadata": {
    "slideshow": {
     "slide_type": "slide"
    }
   },
   "outputs": [],
   "source": [
    "#Compile the Model. Using RMSprop Optimizer and Binary Cross Entropy Loss\n",
    "\n",
    "from tensorflow.keras.optimizers import RMSprop\n",
    "\n",
    "# Set training parameters\n",
    "model.compile(loss='binary_crossentropy',\n",
    "              optimizer=RMSprop(learning_rate=1e-4),\n",
    "              metrics=['accuracy'])"
   ]
  },
  {
   "cell_type": "code",
   "execution_count": 104,
   "id": "0efe1048",
   "metadata": {
    "slideshow": {
     "slide_type": "slide"
    }
   },
   "outputs": [
    {
     "name": "stdout",
     "output_type": "stream",
     "text": [
      "Epoch 1/5\n",
      "24/24 [==============================] - 48s 2s/step - loss: 0.6695 - accuracy: 0.6043 - val_loss: 0.7115 - val_accuracy: 0.5542\n",
      "Epoch 2/5\n",
      "24/24 [==============================] - 47s 2s/step - loss: 0.5793 - accuracy: 0.6999 - val_loss: 0.5168 - val_accuracy: 0.7590\n",
      "Epoch 3/5\n",
      "24/24 [==============================] - 50s 2s/step - loss: 0.5088 - accuracy: 0.7564 - val_loss: 0.4863 - val_accuracy: 0.8072\n",
      "Epoch 4/5\n",
      "24/24 [==============================] - 52s 2s/step - loss: 0.5010 - accuracy: 0.7645 - val_loss: 0.4670 - val_accuracy: 0.7831\n",
      "Epoch 5/5\n",
      "24/24 [==============================] - 55s 2s/step - loss: 0.4444 - accuracy: 0.7981 - val_loss: 0.4636 - val_accuracy: 0.7831\n"
     ]
    }
   ],
   "source": [
    "#Train the Model\n",
    "#Constant for epochs\n",
    "EPOCHS = 5\n",
    "\n",
    "# Train the model\n",
    "history = model.fit(\n",
    "    train_generator,\n",
    "    epochs=EPOCHS,\n",
    "    verbose=1,\n",
    "    validation_data = validation_generator)"
   ]
  },
  {
   "cell_type": "code",
   "execution_count": 105,
   "id": "8c643e91",
   "metadata": {
    "slideshow": {
     "slide_type": "slide"
    }
   },
   "outputs": [],
   "source": [
    "model.save('dronebird.keras')"
   ]
  },
  {
   "cell_type": "code",
   "execution_count": 106,
   "id": "5de4209b",
   "metadata": {
    "slideshow": {
     "slide_type": "slide"
    }
   },
   "outputs": [
    {
     "data": {
      "image/png": "[encoded data removed]",
      "text/plain": [
       "<Figure size 640x480 with 1 Axes>"
      ]
     },
     "metadata": {},
     "output_type": "display_data"
    },
    {
     "name": "stdout",
     "output_type": "stream",
     "text": [
      "\n"
     ]
    },
    {
     "data": {
      "image/png": "[encoded data removed]",
      "text/plain": [
       "<Figure size 640x480 with 1 Axes>"
      ]
     },
     "metadata": {},
     "output_type": "display_data"
    }
   ],
   "source": [
    "#Plotting Accuracy and Loss\n",
    "import matplotlib.pyplot as plt\n",
    "\n",
    "\n",
    "acc=history.history['accuracy']\n",
    "val_acc=history.history['val_accuracy']\n",
    "loss=history.history['loss']\n",
    "val_loss=history.history['val_loss']\n",
    "\n",
    "epochs=range(len(acc)) # Get number of epochs\n",
    "\n",
    "plt.plot(epochs, acc, 'r', label=\"Training Accuracy\")\n",
    "plt.plot(epochs, val_acc, 'b', label=\"Validation Accuracy\")\n",
    "plt.title('Training and validation accuracy')\n",
    "plt.legend(loc=\"upper left\")\n",
    "plt.show()\n",
    "print(\"\")\n",
    "\n",
    "\n",
    "plt.plot(epochs, loss, 'r', label= \"Training Loss\")\n",
    "plt.plot(epochs, val_loss, 'b', label= \"Validation Loss\")\n",
    "plt.legend(loc=\"upper left\")\n",
    "plt.show()\n"
   ]
  },
  {
   "cell_type": "code",
   "execution_count": 107,
   "id": "fa309096",
   "metadata": {
    "slideshow": {
     "slide_type": "slide"
    }
   },
   "outputs": [],
   "source": [
    "model.save('dronebird.h5')"
   ]
  },
  {
   "cell_type": "code",
   "execution_count": 108,
   "id": "f644b5a9",
   "metadata": {
    "slideshow": {
     "slide_type": "slide"
    }
   },
   "outputs": [
    {
     "ename": "FileNotFoundError",
     "evalue": "[Errno 2] No such file or directory: 'BirdVsDrone/testing/drones/4.JPEG'",
     "output_type": "error",
     "traceback": [
      "\u001b[1;31m---------------------------------------------------------------------------\u001b[0m",
      "\u001b[1;31mFileNotFoundError\u001b[0m                         Traceback (most recent call last)",
      "Cell \u001b[1;32mIn[108], line 10\u001b[0m\n\u001b[0;32m      4\u001b[0m \u001b[38;5;28;01mimport\u001b[39;00m \u001b[38;5;21;01mnumpy\u001b[39;00m \u001b[38;5;28;01mas\u001b[39;00m \u001b[38;5;21;01mnp\u001b[39;00m\n\u001b[0;32m      8\u001b[0m model \u001b[38;5;241m=\u001b[39m load_model(\u001b[38;5;124m'\u001b[39m\u001b[38;5;124mdronebird.h5\u001b[39m\u001b[38;5;124m'\u001b[39m)\n\u001b[1;32m---> 10\u001b[0m image \u001b[38;5;241m=\u001b[39m load_img(\u001b[38;5;124m'\u001b[39m\u001b[38;5;124mBirdVsDrone/testing/drones/4.JPEG\u001b[39m\u001b[38;5;124m'\u001b[39m, target_size\u001b[38;5;241m=\u001b[39m(\u001b[38;5;241m150\u001b[39m,\u001b[38;5;241m150\u001b[39m))\n\u001b[0;32m     11\u001b[0m \u001b[38;5;66;03m#image = np.argmax(image,axis=-1)\u001b[39;00m\n\u001b[0;32m     12\u001b[0m image \u001b[38;5;241m=\u001b[39m np\u001b[38;5;241m.\u001b[39marray(image)\n",
      "File \u001b[1;32m~\\AppData\\Roaming\\Python\\Python311\\site-packages\\keras\\src\\utils\\image_utils.py:422\u001b[0m, in \u001b[0;36mload_img\u001b[1;34m(path, grayscale, color_mode, target_size, interpolation, keep_aspect_ratio)\u001b[0m\n\u001b[0;32m    420\u001b[0m     \u001b[38;5;28;01mif\u001b[39;00m \u001b[38;5;28misinstance\u001b[39m(path, pathlib\u001b[38;5;241m.\u001b[39mPath):\n\u001b[0;32m    421\u001b[0m         path \u001b[38;5;241m=\u001b[39m \u001b[38;5;28mstr\u001b[39m(path\u001b[38;5;241m.\u001b[39mresolve())\n\u001b[1;32m--> 422\u001b[0m     \u001b[38;5;28;01mwith\u001b[39;00m \u001b[38;5;28mopen\u001b[39m(path, \u001b[38;5;124m\"\u001b[39m\u001b[38;5;124mrb\u001b[39m\u001b[38;5;124m\"\u001b[39m) \u001b[38;5;28;01mas\u001b[39;00m f:\n\u001b[0;32m    423\u001b[0m         img \u001b[38;5;241m=\u001b[39m pil_image\u001b[38;5;241m.\u001b[39mopen(io\u001b[38;5;241m.\u001b[39mBytesIO(f\u001b[38;5;241m.\u001b[39mread()))\n\u001b[0;32m    424\u001b[0m \u001b[38;5;28;01melse\u001b[39;00m:\n",
      "\u001b[1;31mFileNotFoundError\u001b[0m: [Errno 2] No such file or directory: 'BirdVsDrone/testing/drones/4.JPEG'"
     ]
    }
   ],
   "source": [
    "from keras.models import load_model\n",
    "from keras.preprocessing.image import load_img\n",
    "from keras.preprocessing.image import img_to_array\n",
    "import numpy as np\n",
    "\n",
    "\n",
    " \n",
    "model = load_model('dronebird.h5')\n",
    " \n",
    "image = load_img('BirdVsDrone/testing/drones/4.JPEG', target_size=(150,150))\n",
    "#image = np.argmax(image,axis=-1)\n",
    "image = np.array(image)\n",
    "#img = img/ 255.0\n",
    "image= image.reshape(1,150,150,3)\n",
    "label = model.predict(image)\n",
    "class_value = label\n",
    "print(\"Predicted Class (0 - Birds , 1- Drones): \",label)"
   ]
  },
  {
   "cell_type": "code",
   "execution_count": 109,
   "id": "7cacb2c9",
   "metadata": {
    "slideshow": {
     "slide_type": "slide"
    }
   },
   "outputs": [
    {
     "name": "stdout",
     "output_type": "stream",
     "text": [
      "Drones are identified in your zone- Alert everyone\n"
     ]
    }
   ],
   "source": [
    "if class_value==0:\n",
    "    print(\"Only Birds are identified not drones-don't worry\")\n",
    "else:\n",
    "    print(\"Drones are identified in your zone- Alert everyone\")\n",
    "        \n",
    "    \n"
   ]
  },
  {
   "cell_type": "code",
   "execution_count": 110,
   "id": "fc160b45",
   "metadata": {
    "slideshow": {
     "slide_type": "slide"
    }
   },
   "outputs": [],
   "source": [
    "from time import sleep\n",
    "\n",
    "sleep(2)\n"
   ]
  },
  {
   "cell_type": "code",
   "execution_count": 111,
   "id": "3b4f4f0f",
   "metadata": {
    "slideshow": {
     "slide_type": "slide"
    }
   },
   "outputs": [],
   "source": [
    "import winsound"
   ]
  },
  {
   "cell_type": "code",
   "execution_count": 112,
   "id": "abf6dd2d",
   "metadata": {
    "slideshow": {
     "slide_type": "slide"
    }
   },
   "outputs": [],
   "source": [
    "from playsound import playsound\n",
    "from time import sleep\n",
    "# for playing note.wav file\n",
    "sleep(2)\n",
    "if class_value==1:\n",
    "    #playsound('siren1.wav')\n",
    "    winsound.PlaySound(r'siren.wav', winsound.SND_ASYNC)\n",
    "    sleep(10)\n",
    "    winsound.PlaySound(None, winsound.SND_PURGE)\n",
    "    winsound.PlaySound(r'voicealert.wav', winsound.SND_ASYNC)\n",
    "    sleep(20)\n",
    "    winsound.PlaySound(None, winsound.SND_PURGE)\n",
    "    \n",
    "   # playsound('voicealert1.wav')\n",
    "    \n",
    "    \n",
    "    "
   ]
  }
 ],
 "metadata": {
  "celltoolbar": "Slideshow",
  "kernelspec": {
   "display_name": "Python 3 (ipykernel)",
   "language": "python",
   "name": "python3"
  },
  "language_info": {
   "codemirror_mode": {
    "name": "ipython",
    "version": 3
   },
   "file_extension": ".py",
   "mimetype": "text/x-python",
   "name": "python",
   "nbconvert_exporter": "python",
   "pygments_lexer": "ipython3",
   "version": "3.11.4"
  }
 },
 "nbformat": 4,
 "nbformat_minor": 5
}
